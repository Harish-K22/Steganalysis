{
 "cells": [
  {
   "cell_type": "code",
   "execution_count": 1,
   "metadata": {},
   "outputs": [],
   "source": [
    "import os"
   ]
  },
  {
   "cell_type": "code",
   "execution_count": 2,
   "metadata": {},
   "outputs": [
    {
     "data": {
      "text/plain": [
       "'e:\\\\Projects\\\\Steganalysis\\\\research'"
      ]
     },
     "execution_count": 2,
     "metadata": {},
     "output_type": "execute_result"
    }
   ],
   "source": [
    "%pwd"
   ]
  },
  {
   "cell_type": "code",
   "execution_count": 3,
   "metadata": {},
   "outputs": [],
   "source": [
    "os.chdir('../')"
   ]
  },
  {
   "cell_type": "code",
   "execution_count": 4,
   "metadata": {},
   "outputs": [
    {
     "data": {
      "text/plain": [
       "'e:\\\\Projects\\\\Steganalysis'"
      ]
     },
     "execution_count": 4,
     "metadata": {},
     "output_type": "execute_result"
    }
   ],
   "source": [
    "%pwd"
   ]
  },
  {
   "cell_type": "code",
   "execution_count": 43,
   "metadata": {},
   "outputs": [],
   "source": [
    "from dataclasses import dataclass\n",
    "from pathlib import Path\n",
    "from typing import Tuple, List\n",
    "\n",
    "@dataclass(frozen=True)\n",
    "class PrepareBaseModelConfig:\n",
    "    root_dir: Path\n",
    "    base_model_path: Path\n",
    "    updated_base_model_path: Path\n",
    "    params_image_size: Tuple[int, int, int]\n",
    "    params_include_top: bool\n",
    "    params_weights: str\n",
    "    params_classes: int\n",
    "    model_type: str          \n",
    "    optimizer: str           \n",
    "    loss_function: str       \n",
    "    metrics: List[str]       \n",
    "    batch_size: int          \n",
    "    shuffle_data: bool       \n"
   ]
  },
  {
   "cell_type": "code",
   "execution_count": 6,
   "metadata": {},
   "outputs": [],
   "source": [
    "from Steganalysis.constants import *\n",
    "from Steganalysis.utils.common import read_yaml, create_directories"
   ]
  },
  {
   "cell_type": "code",
   "execution_count": 7,
   "metadata": {},
   "outputs": [],
   "source": [
    "import os\n",
    "import urllib.request as request\n",
    "from zipfile import ZipFile\n",
    "import tensorflow as tf"
   ]
  },
  {
   "cell_type": "code",
   "execution_count": 39,
   "metadata": {},
   "outputs": [],
   "source": [
    "from box import ConfigBox\n",
    "import yaml\n",
    "from pathlib import Path\n",
    "from Steganalysis.utils.common import read_yaml, create_directories\n",
    "from Steganalysis.entity.config_entity import PrepareBaseModelConfig\n",
    "\n",
    "CONFIG_FILE_PATH = 'E:/Projects/Steganalysis/config/config.yaml'\n",
    "PARAMS_FILE_PATH = 'E:/Projects/Steganalysis/params.yaml'\n",
    "\n",
    "class ConfigurationManager:\n",
    "    def __init__(self, config_filepath=CONFIG_FILE_PATH, params_filepath=PARAMS_FILE_PATH):\n",
    "        self.config = ConfigBox(read_yaml(Path(config_filepath)))\n",
    "        self.params = ConfigBox(read_yaml(Path(params_filepath)))\n",
    "        create_directories([self.config.artifacts_root])\n",
    "\n",
    "    def get_prepare_base_model_config(self) -> PrepareBaseModelConfig:\n",
    "        model_config = self.params.model\n",
    "        training_config = self.params.training\n",
    "\n",
    "        create_directories([self.config.prepare_base_model.root_dir])\n",
    "\n",
    "        prepare_base_model_config = PrepareBaseModelConfig(\n",
    "            root_dir=Path(self.config.prepare_base_model.root_dir),\n",
    "            base_model_path=Path(self.config.prepare_base_model.base_model_path),\n",
    "            updated_base_model_path=Path(self.config.prepare_base_model.updated_base_model_path),\n",
    "            params_image_size=tuple(model_config.input_shape),\n",
    "            params_include_top=model_config.include_top,\n",
    "            params_weights=model_config.weights,\n",
    "            params_classes=model_config.classes,\n",
    "            model_type=model_config.model_type,\n",
    "            optimizer=model_config.optimizer,\n",
    "            loss_function=model_config.loss_function,\n",
    "            metrics=model_config.metrics,\n",
    "            batch_size=training_config.batch_size,\n",
    "            shuffle_data=training_config.shuffle_data\n",
    "        )\n",
    "\n",
    "        return prepare_base_model_config\n"
   ]
  },
  {
   "cell_type": "code",
   "execution_count": 44,
   "metadata": {},
   "outputs": [
    {
     "name": "stdout",
     "output_type": "stream",
     "text": [
      "[2024-11-09 15:21:41,528: INFO: common: yaml file: E:\\Projects\\Steganalysis\\config\\config.yaml loaded successfully]\n",
      "[2024-11-09 15:21:41,541: INFO: common: yaml file: E:\\Projects\\Steganalysis\\params.yaml loaded successfully]\n",
      "[2024-11-09 15:21:41,545: INFO: common: created directory at: artifacts]\n",
      "[2024-11-09 15:21:41,547: INFO: common: created directory at: artifacts/prepare_base_model]\n",
      "Model configuration: PrepareBaseModelConfig(root_dir=WindowsPath('artifacts/prepare_base_model'), base_model_path=WindowsPath('artifacts/prepare_base_model/base_model.keras'), updated_base_model_path=WindowsPath('artifacts/prepare_base_model/base_model_updated.keras'), params_image_size=(512, 512, 3), params_include_top=False, params_weights='imagenet', params_classes=1, model_type='EfficientNetB3', optimizer='adam', loss_function='binary_crossentropy', metrics=BoxList(['accuracy']), batch_size=32, shuffle_data=True)\n",
      "Image size: (512, 512, 3)\n"
     ]
    }
   ],
   "source": [
    "if __name__ == \"__main__\":\n",
    "    config_manager = ConfigurationManager()\n",
    "    prepare_base_model_config = config_manager.get_prepare_base_model_config()\n",
    "    print(\"Model configuration:\", prepare_base_model_config)\n",
    "    print(\"Image size:\", prepare_base_model_config.params_image_size)\n"
   ]
  },
  {
   "cell_type": "code",
   "execution_count": 47,
   "metadata": {},
   "outputs": [],
   "source": [
    "import os\n",
    "import numpy as np\n",
    "import tensorflow as tf\n",
    "from sklearn.model_selection import train_test_split\n",
    "from tensorflow.keras import layers\n",
    "import efficientnet.tfkeras as efn\n",
    "\n",
    "AUTO = tf.data.experimental.AUTOTUNE\n",
    "\n",
    "class PrepareBaseModel:\n",
    "    def __init__(self, config: PrepareBaseModelConfig):\n",
    "        self.config = config\n",
    "        self.strategy = self._get_strategy()\n",
    "        self.model = None\n",
    "        self.train_ds = None\n",
    "        self.val_ds = None\n",
    "        self.test_ds = None\n",
    "\n",
    "    def _get_strategy(self):\n",
    "        \"\"\"Detect TPU or GPU strategy for distributed training.\"\"\"\n",
    "        try:\n",
    "            tpu = tf.distribute.cluster_resolver.TPUClusterResolver()\n",
    "            print(f'Running on TPU {tpu.master()}')\n",
    "            tf.config.experimental_connect_to_cluster(tpu)\n",
    "            tf.tpu.experimental.initialize_tpu_system(tpu)\n",
    "            return tf.distribute.experimental.TPUStrategy(tpu)\n",
    "        except ValueError:\n",
    "            print(\"TPU not detected, using default strategy.\")\n",
    "            return tf.distribute.get_strategy()\n",
    "\n",
    "    # Inside PrepareBaseModel class after model creation and compilation:\n",
    "    def get_base_model(self):\n",
    "        with self.strategy.scope():\n",
    "            if self.config.model_type == \"EfficientNetB3\":\n",
    "                self.model = tf.keras.Sequential([\n",
    "                    efn.EfficientNetB3(\n",
    "                        input_shape=tuple(self.config.params_image_size),\n",
    "                        weights=self.config.params_weights,\n",
    "                        include_top=self.config.params_include_top\n",
    "                    ),\n",
    "                    layers.GlobalAveragePooling2D(),\n",
    "                    layers.Dense(1, activation=\"sigmoid\")\n",
    "                ])\n",
    "            else:\n",
    "                raise ValueError(f\"Model type {self.config.model_type} is not supported.\")\n",
    "            \n",
    "            self.compile_model()\n",
    "            self.model.summary()\n",
    "            \n",
    "            # Save model here\n",
    "            self.save_model(self.config.base_model_path)  # Save the base model file\n",
    "\n",
    "\n",
    "    def compile_model(self):\n",
    "        \"\"\"Compiles the model with configurations from params.yaml.\"\"\"\n",
    "        self.model.compile(\n",
    "            optimizer=tf.keras.optimizers.get(self.config.optimizer),\n",
    "            loss=self.config.loss_function,\n",
    "            metrics=self.config.metrics\n",
    "        )\n",
    "\n",
    "    def prepare_data(self):\n",
    "        \"\"\"Prepares balanced data paths and splits them into train, validation, and test sets.\"\"\"\n",
    "        \n",
    "        def get_paths(directory, start_index, end_index):\n",
    "            \"\"\"Helper function to get image paths from a directory within a range.\"\"\"\n",
    "            return [os.path.join(directory, filename) for filename in sorted(os.listdir(directory))[start_index:end_index]]\n",
    "\n",
    "        # Define paths for each class\n",
    "        cover_paths = np.array(get_paths('/kaggle/input/alaska2-image-steganalysis/Cover', 0, 75000))\n",
    "        jmipod_paths = get_paths('/kaggle/input/alaska2-image-steganalysis/JMiPOD', 0, 25000)\n",
    "        juniward_paths = get_paths('/kaggle/input/alaska2-image-steganalysis/JUNIWARD', 25000, 50000)\n",
    "        uerd_paths = get_paths('/kaggle/input/alaska2-image-steganalysis/UERD', 50000, 75000)\n",
    "\n",
    "        # Labels: Cover = 0, Stego = 1\n",
    "        cover_labels = np.array([0] * len(cover_paths))\n",
    "        stego_paths = np.array(jmipod_paths + juniward_paths + uerd_paths)\n",
    "        stego_labels = np.array([1] * len(stego_paths))\n",
    "\n",
    "        # Combine and shuffle\n",
    "        img_paths = np.concatenate((cover_paths, stego_paths), axis=None)\n",
    "        img_labels = np.concatenate((cover_labels, stego_labels), axis=None)\n",
    "\n",
    "        # Split into train, test, validation sets\n",
    "        X_train_paths, X_test_paths, y_train, y_test = train_test_split(img_paths, img_labels, test_size=0.15, shuffle=self.config.shuffle_data)\n",
    "        X_train_paths, X_val_paths, y_train, y_val = train_test_split(X_train_paths, y_train, test_size=0.15, shuffle=self.config.shuffle_data)\n",
    "\n",
    "        self.train_ds = self.build_dataset(X_train_paths, y_train)\n",
    "        self.test_ds = self.build_dataset(X_test_paths, y_test)\n",
    "        self.val_ds = self.build_dataset(X_val_paths, y_val)\n",
    "\n",
    "    def data_augment(self, image, label):\n",
    "        \"\"\"Applies data augmentation.\"\"\"\n",
    "        image = tf.image.random_flip_left_right(image)\n",
    "        return image, label  \n",
    "\n",
    "    def decode_img(self, path, label):\n",
    "        \"\"\"Reads and decodes image from path, resizes, and normalizes.\"\"\"\n",
    "        bits = tf.io.read_file(path)\n",
    "        image = tf.image.decode_jpeg(bits, channels=3)\n",
    "        image = tf.image.resize(image, self.config.input_shape[:2]) / 255.0\n",
    "        return image, label\n",
    "\n",
    "    def build_dataset(self, X, y):\n",
    "        \"\"\"Builds a tf.data.Dataset for training, validation, or testing.\"\"\"\n",
    "        dataset = tf.data.Dataset.from_tensor_slices((X, y))\n",
    "        dataset = dataset.map(self.decode_img, num_parallel_calls=AUTO)\n",
    "        dataset = dataset.map(self.data_augment, num_parallel_calls=AUTO)\n",
    "        dataset = dataset.batch(self.config.batch_size).prefetch(AUTO)\n",
    "        return dataset\n",
    "\n",
    "    def save_model(self, path):\n",
    "        \"\"\"Saves the model to the specified path.\"\"\"\n",
    "        self.model.save(path)\n",
    "        print(f\"Model saved at {path}\")\n"
   ]
  },
  {
   "cell_type": "code",
   "execution_count": 48,
   "metadata": {},
   "outputs": [
    {
     "name": "stdout",
     "output_type": "stream",
     "text": [
      "[2024-11-09 15:57:50,108: INFO: common: yaml file: E:\\Projects\\Steganalysis\\config\\config.yaml loaded successfully]\n",
      "[2024-11-09 15:57:50,116: INFO: common: yaml file: E:\\Projects\\Steganalysis\\params.yaml loaded successfully]\n",
      "[2024-11-09 15:57:50,123: INFO: common: created directory at: artifacts]\n",
      "[2024-11-09 15:57:50,123: INFO: common: created directory at: artifacts/prepare_base_model]\n"
     ]
    },
    {
     "name": "stdout",
     "output_type": "stream",
     "text": [
      "TPU not detected, using default strategy.\n"
     ]
    },
    {
     "data": {
      "text/html": [
       "<pre style=\"white-space:pre;overflow-x:auto;line-height:normal;font-family:Menlo,'DejaVu Sans Mono',consolas,'Courier New',monospace\"><span style=\"font-weight: bold\">Model: \"sequential_1\"</span>\n",
       "</pre>\n"
      ],
      "text/plain": [
       "\u001b[1mModel: \"sequential_1\"\u001b[0m\n"
      ]
     },
     "metadata": {},
     "output_type": "display_data"
    },
    {
     "data": {
      "text/html": [
       "<pre style=\"white-space:pre;overflow-x:auto;line-height:normal;font-family:Menlo,'DejaVu Sans Mono',consolas,'Courier New',monospace\">┏━━━━━━━━━━━━━━━━━━━━━━━━━━━━━━━━━┳━━━━━━━━━━━━━━━━━━━━━━━━┳━━━━━━━━━━━━━━━┓\n",
       "┃<span style=\"font-weight: bold\"> Layer (type)                    </span>┃<span style=\"font-weight: bold\"> Output Shape           </span>┃<span style=\"font-weight: bold\">       Param # </span>┃\n",
       "┡━━━━━━━━━━━━━━━━━━━━━━━━━━━━━━━━━╇━━━━━━━━━━━━━━━━━━━━━━━━╇━━━━━━━━━━━━━━━┩\n",
       "│ efficientnet-b3 (<span style=\"color: #0087ff; text-decoration-color: #0087ff\">Functional</span>)    │ (<span style=\"color: #00d7ff; text-decoration-color: #00d7ff\">None</span>, <span style=\"color: #00af00; text-decoration-color: #00af00\">16</span>, <span style=\"color: #00af00; text-decoration-color: #00af00\">16</span>, <span style=\"color: #00af00; text-decoration-color: #00af00\">1536</span>)   │    <span style=\"color: #00af00; text-decoration-color: #00af00\">10,783,528</span> │\n",
       "├─────────────────────────────────┼────────────────────────┼───────────────┤\n",
       "│ global_average_pooling2d_1      │ (<span style=\"color: #00d7ff; text-decoration-color: #00d7ff\">None</span>, <span style=\"color: #00af00; text-decoration-color: #00af00\">1536</span>)           │             <span style=\"color: #00af00; text-decoration-color: #00af00\">0</span> │\n",
       "│ (<span style=\"color: #0087ff; text-decoration-color: #0087ff\">GlobalAveragePooling2D</span>)        │                        │               │\n",
       "├─────────────────────────────────┼────────────────────────┼───────────────┤\n",
       "│ dense_1 (<span style=\"color: #0087ff; text-decoration-color: #0087ff\">Dense</span>)                 │ (<span style=\"color: #00d7ff; text-decoration-color: #00d7ff\">None</span>, <span style=\"color: #00af00; text-decoration-color: #00af00\">1</span>)              │         <span style=\"color: #00af00; text-decoration-color: #00af00\">1,537</span> │\n",
       "└─────────────────────────────────┴────────────────────────┴───────────────┘\n",
       "</pre>\n"
      ],
      "text/plain": [
       "┏━━━━━━━━━━━━━━━━━━━━━━━━━━━━━━━━━┳━━━━━━━━━━━━━━━━━━━━━━━━┳━━━━━━━━━━━━━━━┓\n",
       "┃\u001b[1m \u001b[0m\u001b[1mLayer (type)                   \u001b[0m\u001b[1m \u001b[0m┃\u001b[1m \u001b[0m\u001b[1mOutput Shape          \u001b[0m\u001b[1m \u001b[0m┃\u001b[1m \u001b[0m\u001b[1m      Param #\u001b[0m\u001b[1m \u001b[0m┃\n",
       "┡━━━━━━━━━━━━━━━━━━━━━━━━━━━━━━━━━╇━━━━━━━━━━━━━━━━━━━━━━━━╇━━━━━━━━━━━━━━━┩\n",
       "│ efficientnet-b3 (\u001b[38;5;33mFunctional\u001b[0m)    │ (\u001b[38;5;45mNone\u001b[0m, \u001b[38;5;34m16\u001b[0m, \u001b[38;5;34m16\u001b[0m, \u001b[38;5;34m1536\u001b[0m)   │    \u001b[38;5;34m10,783,528\u001b[0m │\n",
       "├─────────────────────────────────┼────────────────────────┼───────────────┤\n",
       "│ global_average_pooling2d_1      │ (\u001b[38;5;45mNone\u001b[0m, \u001b[38;5;34m1536\u001b[0m)           │             \u001b[38;5;34m0\u001b[0m │\n",
       "│ (\u001b[38;5;33mGlobalAveragePooling2D\u001b[0m)        │                        │               │\n",
       "├─────────────────────────────────┼────────────────────────┼───────────────┤\n",
       "│ dense_1 (\u001b[38;5;33mDense\u001b[0m)                 │ (\u001b[38;5;45mNone\u001b[0m, \u001b[38;5;34m1\u001b[0m)              │         \u001b[38;5;34m1,537\u001b[0m │\n",
       "└─────────────────────────────────┴────────────────────────┴───────────────┘\n"
      ]
     },
     "metadata": {},
     "output_type": "display_data"
    },
    {
     "data": {
      "text/html": [
       "<pre style=\"white-space:pre;overflow-x:auto;line-height:normal;font-family:Menlo,'DejaVu Sans Mono',consolas,'Courier New',monospace\"><span style=\"font-weight: bold\"> Total params: </span><span style=\"color: #00af00; text-decoration-color: #00af00\">10,785,065</span> (41.14 MB)\n",
       "</pre>\n"
      ],
      "text/plain": [
       "\u001b[1m Total params: \u001b[0m\u001b[38;5;34m10,785,065\u001b[0m (41.14 MB)\n"
      ]
     },
     "metadata": {},
     "output_type": "display_data"
    },
    {
     "data": {
      "text/html": [
       "<pre style=\"white-space:pre;overflow-x:auto;line-height:normal;font-family:Menlo,'DejaVu Sans Mono',consolas,'Courier New',monospace\"><span style=\"font-weight: bold\"> Trainable params: </span><span style=\"color: #00af00; text-decoration-color: #00af00\">10,697,769</span> (40.81 MB)\n",
       "</pre>\n"
      ],
      "text/plain": [
       "\u001b[1m Trainable params: \u001b[0m\u001b[38;5;34m10,697,769\u001b[0m (40.81 MB)\n"
      ]
     },
     "metadata": {},
     "output_type": "display_data"
    },
    {
     "data": {
      "text/html": [
       "<pre style=\"white-space:pre;overflow-x:auto;line-height:normal;font-family:Menlo,'DejaVu Sans Mono',consolas,'Courier New',monospace\"><span style=\"font-weight: bold\"> Non-trainable params: </span><span style=\"color: #00af00; text-decoration-color: #00af00\">87,296</span> (341.00 KB)\n",
       "</pre>\n"
      ],
      "text/plain": [
       "\u001b[1m Non-trainable params: \u001b[0m\u001b[38;5;34m87,296\u001b[0m (341.00 KB)\n"
      ]
     },
     "metadata": {},
     "output_type": "display_data"
    },
    {
     "name": "stdout",
     "output_type": "stream",
     "text": [
      "Model saved at artifacts\\prepare_base_model\\base_model.keras\n"
     ]
    }
   ],
   "source": [
    "config_manager = ConfigurationManager()\n",
    "prepare_base_model_config = config_manager.get_prepare_base_model_config()\n",
    "prepare_base_model = PrepareBaseModel(config=prepare_base_model_config)\n",
    "\n",
    "# Generate and print the model summary\n",
    "prepare_base_model.get_base_model()\n"
   ]
  },
  {
   "cell_type": "code",
   "execution_count": null,
   "metadata": {},
   "outputs": [],
   "source": []
  }
 ],
 "metadata": {
  "kernelspec": {
   "display_name": "my_envi_steganalysis",
   "language": "python",
   "name": "python3"
  },
  "language_info": {
   "codemirror_mode": {
    "name": "ipython",
    "version": 3
   },
   "file_extension": ".py",
   "mimetype": "text/x-python",
   "name": "python",
   "nbconvert_exporter": "python",
   "pygments_lexer": "ipython3",
   "version": "3.10.15"
  }
 },
 "nbformat": 4,
 "nbformat_minor": 2
}
