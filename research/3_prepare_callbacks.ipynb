{
 "cells": [
  {
   "cell_type": "code",
   "execution_count": 3,
   "metadata": {},
   "outputs": [],
   "source": [
    "import os"
   ]
  },
  {
   "cell_type": "code",
   "execution_count": 4,
   "metadata": {},
   "outputs": [
    {
     "data": {
      "text/plain": [
       "'e:\\\\Projects\\\\Steganalysis\\\\research'"
      ]
     },
     "execution_count": 4,
     "metadata": {},
     "output_type": "execute_result"
    }
   ],
   "source": [
    "%pwd"
   ]
  },
  {
   "cell_type": "code",
   "execution_count": 5,
   "metadata": {},
   "outputs": [],
   "source": [
    "os.chdir('../')"
   ]
  },
  {
   "cell_type": "code",
   "execution_count": 6,
   "metadata": {},
   "outputs": [
    {
     "data": {
      "text/plain": [
       "'e:\\\\Projects\\\\Steganalysis'"
      ]
     },
     "execution_count": 6,
     "metadata": {},
     "output_type": "execute_result"
    }
   ],
   "source": [
    "%pwd"
   ]
  },
  {
   "cell_type": "code",
   "execution_count": 2,
   "metadata": {},
   "outputs": [],
   "source": [
    "import os\n",
    "from tensorflow.keras.callbacks import ModelCheckpoint, TensorBoard\n",
    "from Steganalysis.config.configuration import ConfigurationManager\n",
    "\n",
    "from Steganalysis.components.prepare_callbacks import PrepareCallbacks\n",
    "from Steganalysis import logger\n",
    "\n",
    "from Steganalysis.utils.common import read_yaml, create_directories\n",
    "from Steganalysis.entity.config_entity import PrepareCallbacksConfig\n"
   ]
  },
  {
   "cell_type": "code",
   "execution_count": 3,
   "metadata": {},
   "outputs": [
    {
     "name": "stdout",
     "output_type": "stream",
     "text": [
      "[2024-11-09 17:09:12,107: INFO: common: yaml file: E:\\Projects\\Steganalysis\\config\\config.yaml loaded successfully]\n",
      "[2024-11-09 17:09:12,118: INFO: common: yaml file: E:\\Projects\\Steganalysis\\params.yaml loaded successfully]\n",
      "[2024-11-09 17:09:12,118: INFO: common: created directory at: artifacts]\n",
      "[2024-11-09 17:09:12,125: INFO: common: created directory at: artifacts/prepare_callbacks]\n"
     ]
    }
   ],
   "source": [
    "# Initialize configuration manager\n",
    "config_manager = ConfigurationManager()\n",
    "prepare_callbacks_config = config_manager.get_prepare_callbacks_config()\n"
   ]
  },
  {
   "cell_type": "code",
   "execution_count": 4,
   "metadata": {},
   "outputs": [
    {
     "name": "stdout",
     "output_type": "stream",
     "text": [
      "TensorBoard log directory: artifacts\\prepare_callbacks\\tensorboard_log_dir\n",
      "Checkpoint directory: artifacts\\prepare_callbacks\\checkpoint_dir\\model.keras\n"
     ]
    }
   ],
   "source": [
    "# Initialize the PrepareCallbacks component\n",
    "prepare_callbacks = PrepareCallbacks(config=prepare_callbacks_config)\n",
    "\n",
    "# Generate callbacks\n",
    "callbacks = prepare_callbacks.get_callbacks()\n",
    "\n",
    "# Display callback paths\n",
    "print(\"TensorBoard log directory:\", prepare_callbacks_config.tensorboard_root_log_dir)\n",
    "print(\"Checkpoint directory:\", prepare_callbacks_config.checkpoint_model_filepath)\n"
   ]
  },
  {
   "cell_type": "code",
   "execution_count": 7,
   "metadata": {},
   "outputs": [
    {
     "name": "stdout",
     "output_type": "stream",
     "text": [
      "\u001b[1m1/1\u001b[0m \u001b[32m━━━━━━━━━━━━━━━━━━━━\u001b[0m\u001b[37m\u001b[0m \u001b[1m0s\u001b[0m 2s/step - accuracy: 1.0000 - loss: 0.6250"
     ]
    },
    {
     "name": "stderr",
     "output_type": "stream",
     "text": [
      "e:\\System_Files\\Anaconda\\envs\\my_envi_steganalysis\\lib\\site-packages\\keras\\src\\callbacks\\model_checkpoint.py:206: UserWarning: Can save best model only with val_loss available, skipping.\n",
      "  self._save_model(epoch=epoch, batch=None, logs=logs)\n"
     ]
    },
    {
     "name": "stdout",
     "output_type": "stream",
     "text": [
      "\u001b[1m1/1\u001b[0m \u001b[32m━━━━━━━━━━━━━━━━━━━━\u001b[0m\u001b[37m\u001b[0m \u001b[1m2s\u001b[0m 2s/step - accuracy: 1.0000 - loss: 0.6250\n"
     ]
    },
    {
     "data": {
      "text/plain": [
       "<keras.src.callbacks.history.History at 0x2ab644ff700>"
      ]
     },
     "execution_count": 7,
     "metadata": {},
     "output_type": "execute_result"
    }
   ],
   "source": [
    "# To check if the code is working\n",
    "import numpy as np\n",
    "from tensorflow.keras import Sequential\n",
    "from tensorflow.keras.layers import Dense, GlobalAveragePooling2D\n",
    "\n",
    "# Dummy model\n",
    "model = Sequential([\n",
    "    Dense(64, activation='relu', input_shape=(512, 512, 3)),\n",
    "    GlobalAveragePooling2D(),  # This will reduce the spatial dimensions to a single scalar value\n",
    "    Dense(1, activation='sigmoid')  # Output a single scalar for binary classification\n",
    "])\n",
    "\n",
    "# Compile the model\n",
    "model.compile(optimizer='adam', loss='binary_crossentropy', metrics=['accuracy'])\n",
    "\n",
    "# Create a dummy input and output that matches the new model output shape\n",
    "x_dummy = np.random.rand(1, 512, 512, 3).astype(np.float32)  # Single dummy input sample\n",
    "y_dummy = np.array([0])  # Single dummy output\n",
    "\n",
    "# Run a dummy training step with callbacks\n",
    "model.fit(x=x_dummy, y=y_dummy, epochs=1, callbacks=callbacks)\n"
   ]
  },
  {
   "cell_type": "code",
   "execution_count": null,
   "metadata": {},
   "outputs": [],
   "source": []
  }
 ],
 "metadata": {
  "kernelspec": {
   "display_name": "my_envi_steganalysis",
   "language": "python",
   "name": "python3"
  },
  "language_info": {
   "codemirror_mode": {
    "name": "ipython",
    "version": 3
   },
   "file_extension": ".py",
   "mimetype": "text/x-python",
   "name": "python",
   "nbconvert_exporter": "python",
   "pygments_lexer": "ipython3",
   "version": "3.10.15"
  }
 },
 "nbformat": 4,
 "nbformat_minor": 2
}
